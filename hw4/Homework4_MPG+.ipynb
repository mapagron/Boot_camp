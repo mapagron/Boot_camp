{
 "cells": [
  {
   "cell_type": "markdown",
   "metadata": {},
   "source": [
    "Homework#4\n",
    "Heroes of Pymoli\n",
    "http://gw.bootcampcontent.com/GW-Coding-Boot-Camp/09-12-2017-GW-Arlington-Class-Repository-DATA/tree/master/Homework/Week04/Instructions\n"
   ]
  },
  {
   "cell_type": "code",
   "execution_count": 1,
   "metadata": {},
   "outputs": [],
   "source": [
    "#Import libraries \n",
    "import pandas as pd\n",
    "import numpy as np \n",
    "import os\n",
    "import json \n",
    "#os.getcwd()\n"
   ]
  },
  {
   "cell_type": "code",
   "execution_count": 2,
   "metadata": {},
   "outputs": [
    {
     "data": {
      "text/html": [
       "<div>\n",
       "<style>\n",
       "    .dataframe thead tr:only-child th {\n",
       "        text-align: right;\n",
       "    }\n",
       "\n",
       "    .dataframe thead th {\n",
       "        text-align: left;\n",
       "    }\n",
       "\n",
       "    .dataframe tbody tr th {\n",
       "        vertical-align: top;\n",
       "    }\n",
       "</style>\n",
       "<table border=\"1\" class=\"dataframe\">\n",
       "  <thead>\n",
       "    <tr style=\"text-align: right;\">\n",
       "      <th></th>\n",
       "      <th>Age</th>\n",
       "      <th>Gender</th>\n",
       "      <th>Item ID</th>\n",
       "      <th>Item Name</th>\n",
       "      <th>Price</th>\n",
       "      <th>SN</th>\n",
       "    </tr>\n",
       "  </thead>\n",
       "  <tbody>\n",
       "    <tr>\n",
       "      <th>0</th>\n",
       "      <td>20</td>\n",
       "      <td>Male</td>\n",
       "      <td>93</td>\n",
       "      <td>Apocalyptic Battlescythe</td>\n",
       "      <td>4.49</td>\n",
       "      <td>Iloni35</td>\n",
       "    </tr>\n",
       "    <tr>\n",
       "      <th>1</th>\n",
       "      <td>21</td>\n",
       "      <td>Male</td>\n",
       "      <td>12</td>\n",
       "      <td>Dawne</td>\n",
       "      <td>3.36</td>\n",
       "      <td>Aidaira26</td>\n",
       "    </tr>\n",
       "    <tr>\n",
       "      <th>2</th>\n",
       "      <td>17</td>\n",
       "      <td>Male</td>\n",
       "      <td>5</td>\n",
       "      <td>Putrid Fan</td>\n",
       "      <td>2.63</td>\n",
       "      <td>Irim47</td>\n",
       "    </tr>\n",
       "    <tr>\n",
       "      <th>3</th>\n",
       "      <td>17</td>\n",
       "      <td>Male</td>\n",
       "      <td>123</td>\n",
       "      <td>Twilight's Carver</td>\n",
       "      <td>2.55</td>\n",
       "      <td>Irith83</td>\n",
       "    </tr>\n",
       "    <tr>\n",
       "      <th>4</th>\n",
       "      <td>22</td>\n",
       "      <td>Male</td>\n",
       "      <td>154</td>\n",
       "      <td>Feral Katana</td>\n",
       "      <td>4.11</td>\n",
       "      <td>Philodil43</td>\n",
       "    </tr>\n",
       "  </tbody>\n",
       "</table>\n",
       "</div>"
      ],
      "text/plain": [
       "   Age Gender  Item ID                 Item Name  Price          SN\n",
       "0   20   Male       93  Apocalyptic Battlescythe   4.49     Iloni35\n",
       "1   21   Male       12                     Dawne   3.36   Aidaira26\n",
       "2   17   Male        5                Putrid Fan   2.63      Irim47\n",
       "3   17   Male      123         Twilight's Carver   2.55     Irith83\n",
       "4   22   Male      154              Feral Katana   4.11  Philodil43"
      ]
     },
     "execution_count": 2,
     "metadata": {},
     "output_type": "execute_result"
    }
   ],
   "source": [
    "#Import data \n",
    "# json.load\n",
    "# json.loads (it use of only strings)\n",
    "#data = pd.read_json(\"http://localhost:8840/edit/Homework/Week04/Instructions/HeroesOfPymoli/purchase_data.json\")\n",
    "#ata = json.load(open('http://localhost:8840/edit/Homework/Week04/Instructions/HeroesOfPymoli/purchase_data.json', 'r'))\n",
    "\n",
    "json_path = \"purchase_data.json\"\n",
    "p_data_df = pd.read_json(json_path)\n",
    "\n",
    "# to see the data \n",
    "p_data_df.head()\n",
    "#p_data_df.columns\n",
    "#p_data_df.dtypes\n",
    "#p_data_df.describe()\n",
    "#p_data_df.counts()\n"
   ]
  },
  {
   "cell_type": "markdown",
   "metadata": {},
   "source": [
    "# Total number of players and purchasing analysis"
   ]
  },
  {
   "cell_type": "code",
   "execution_count": 3,
   "metadata": {
    "collapsed": true
   },
   "outputs": [],
   "source": [
    "#total number of players\n",
    "#TotalPlayers = p_data_df[\"SN\"].count()\n",
    "TotalPlayers = p_data_df[\"SN\"].unique()\n",
    "TotalUniquePlayers = len(TotalPlayers)"
   ]
  },
  {
   "cell_type": "code",
   "execution_count": 4,
   "metadata": {
    "collapsed": true
   },
   "outputs": [],
   "source": [
    "#Purchasing Analysis (Total)\n",
    "#Number of Unique Items\n",
    "UniqueItems = p_data_df[\"Item ID\"].unique()\n",
    "NumberUniqueItems = len(UniqueItems)\n",
    "\n",
    "#Average Purchase Price\n",
    "averagePurchase = p_data_df[\"Price\"].mean()\n",
    "\n",
    "#Total Number of Purchases\n",
    "TotalNumberPurchases = len(p_data_df[\"Price\"])\n",
    "\n",
    "#Total Revenue\n",
    "TotalRevenue = sum(p_data_df[\"Price\"])"
   ]
  },
  {
   "cell_type": "code",
   "execution_count": 5,
   "metadata": {
    "scrolled": true
   },
   "outputs": [
    {
     "data": {
      "text/html": [
       "<div>\n",
       "<style>\n",
       "    .dataframe thead tr:only-child th {\n",
       "        text-align: right;\n",
       "    }\n",
       "\n",
       "    .dataframe thead th {\n",
       "        text-align: left;\n",
       "    }\n",
       "\n",
       "    .dataframe tbody tr th {\n",
       "        vertical-align: top;\n",
       "    }\n",
       "</style>\n",
       "<table border=\"1\" class=\"dataframe\">\n",
       "  <thead>\n",
       "    <tr style=\"text-align: right;\">\n",
       "      <th></th>\n",
       "      <th>Average Purchase Price</th>\n",
       "      <th>Number of Unique Items</th>\n",
       "      <th>Total Number of Purchases</th>\n",
       "      <th>Total Players</th>\n",
       "      <th>Total Revenue</th>\n",
       "    </tr>\n",
       "  </thead>\n",
       "  <tbody>\n",
       "    <tr>\n",
       "      <th>0</th>\n",
       "      <td>2.924359</td>\n",
       "      <td>64</td>\n",
       "      <td>78</td>\n",
       "      <td>74</td>\n",
       "      <td>228.1</td>\n",
       "    </tr>\n",
       "  </tbody>\n",
       "</table>\n",
       "</div>"
      ],
      "text/plain": [
       "   Average Purchase Price  Number of Unique Items  Total Number of Purchases  \\\n",
       "0                2.924359                      64                         78   \n",
       "\n",
       "   Total Players  Total Revenue  \n",
       "0             74          228.1  "
      ]
     },
     "execution_count": 5,
     "metadata": {},
     "output_type": "execute_result"
    }
   ],
   "source": [
    "#Everything to a table \n",
    "PurchasingAnalysis = pd.DataFrame({\"Total Players\": [TotalUniquePlayers],\n",
    "                                   \"Number of Unique Items\": [NumberUniqueItems],\n",
    "                                   \"Average Purchase Price\": [averagePurchase],\n",
    "                                   \"Total Number of Purchases\": [TotalNumberPurchases],\n",
    "                                   \"Total Revenue\": [TotalRevenue]})\n",
    "PurchasingAnalysis"
   ]
  },
  {
   "cell_type": "code",
   "execution_count": null,
   "metadata": {
    "collapsed": true
   },
   "outputs": [],
   "source": [
    "# Gender analysis"
   ]
  },
  {
   "cell_type": "code",
   "execution_count": 6,
   "metadata": {},
   "outputs": [],
   "source": [
    "#demographics = p_data_df[\"Gender\"].value_counts()\n",
    "#demographics\n",
    "\n",
    "totalGender = p_data_df[\"Gender\"].count()\n",
    "male = p_data_df[\"Gender\"].value_counts()['Male']\n",
    "female = p_data_df[\"Gender\"].value_counts()['Female']\n",
    "nonGenderSpecific = totalGender - male - female\n",
    "malePercent = (male/totalGender) * 100\n",
    "femalePercent = (female/totalGender) * 100\n",
    "nonGenderSpecificPercent = (nonGenderSpecific/totalGender) * 100"
   ]
  },
  {
   "cell_type": "code",
   "execution_count": 7,
   "metadata": {},
   "outputs": [
    {
     "data": {
      "text/html": [
       "<div>\n",
       "<style>\n",
       "    .dataframe thead tr:only-child th {\n",
       "        text-align: right;\n",
       "    }\n",
       "\n",
       "    .dataframe thead th {\n",
       "        text-align: left;\n",
       "    }\n",
       "\n",
       "    .dataframe tbody tr th {\n",
       "        vertical-align: top;\n",
       "    }\n",
       "</style>\n",
       "<table border=\"1\" class=\"dataframe\">\n",
       "  <thead>\n",
       "    <tr style=\"text-align: right;\">\n",
       "      <th></th>\n",
       "      <th>% Non Gender Specific</th>\n",
       "      <th>% Non Gender Specific Percent</th>\n",
       "      <th>% attended Female</th>\n",
       "      <th>% attended Male</th>\n",
       "      <th>Total Female</th>\n",
       "      <th>Total Gender</th>\n",
       "      <th>Total Male</th>\n",
       "    </tr>\n",
       "  </thead>\n",
       "  <tbody>\n",
       "    <tr>\n",
       "      <th>0</th>\n",
       "      <td>1</td>\n",
       "      <td>1.282051</td>\n",
       "      <td>16.666667</td>\n",
       "      <td>82.051282</td>\n",
       "      <td>13</td>\n",
       "      <td>78</td>\n",
       "      <td>64</td>\n",
       "    </tr>\n",
       "  </tbody>\n",
       "</table>\n",
       "</div>"
      ],
      "text/plain": [
       "   % Non Gender Specific  % Non Gender Specific Percent  % attended Female  \\\n",
       "0                      1                       1.282051          16.666667   \n",
       "\n",
       "   % attended Male  Total Female  Total Gender  Total Male  \n",
       "0        82.051282            13            78          64  "
      ]
     },
     "execution_count": 7,
     "metadata": {},
     "output_type": "execute_result"
    }
   ],
   "source": [
    "#Everything to a table \n",
    "\n",
    "GenderDemographics = pd.DataFrame({\"Total Gender\": [totalGender],\n",
    "                                   \"Total Male\": [male],\n",
    "                                   \"% attended Male\": [malePercent],\n",
    "                                   \"Total Female\": [female],\n",
    "                                   \"% attended Female\": [femalePercent],\n",
    "                                   \"% Non Gender Specific\":[nonGenderSpecific],\n",
    "                                   \"% Non Gender Specific Percent\":[nonGenderSpecificPercent],\n",
    "                                   \n",
    "                                 })\n",
    "GenderDemographics"
   ]
  },
  {
   "cell_type": "markdown",
   "metadata": {},
   "source": [
    "# Age Demographics"
   ]
  },
  {
   "cell_type": "code",
   "execution_count": 8,
   "metadata": {},
   "outputs": [
    {
     "name": "stdout",
     "output_type": "stream",
     "text": [
      "Age Demographics\n",
      "10-14     3\n",
      "15-19    11\n",
      "20-24    36\n",
      "25-29     9\n",
      "30-34     7\n",
      "35-39     6\n",
      "40-44     1\n",
      "45<       0\n",
      "<10       5\n",
      "Name: Item Name, dtype: int64\n",
      "Age Demographics\n",
      "10-14    2.986667\n",
      "15-19    2.764545\n",
      "20-24    3.024722\n",
      "25-29    2.901111\n",
      "30-34    1.984286\n",
      "35-39    3.561667\n",
      "40-44    4.650000\n",
      "45<           NaN\n",
      "<10      2.764000\n",
      "Name: Price, dtype: float64\n",
      "Age Demographics\n",
      "10-14      8.96\n",
      "15-19     30.41\n",
      "20-24    108.89\n",
      "25-29     26.11\n",
      "30-34     13.89\n",
      "35-39     21.37\n",
      "40-44      4.65\n",
      "45<         NaN\n",
      "<10       13.82\n",
      "Name: Price, dtype: float64\n"
     ]
    }
   ],
   "source": [
    "#The below each broken into bins of 4 years (i.e. <10, 10-14, 15-19, etc.)\n",
    "#source: https://chrisalbon.com/python/pandas_binning_data.html\n",
    "\n",
    "ageBinValue = [0, 9, 14, 19, 24, 29, 34, 39, 44, 100]\n",
    "ageBinNames = ['<10', '10-14', '15-19', '20-24', '25-29', '30-34', '35-39', '40-44', '45<']\n",
    "p_data_df[\"Age Demographics\"]= pd.cut(p_data_df[\"Age\"], ageBinValue, labels=ageBinNames)\n",
    "demographic_group = p_data_df.groupby(\"Age Demographics\")\n",
    "\n",
    "print(demographic_group[\"Item Name\"].count())\n",
    "print((demographic_group[\"Price\"].mean()))\n",
    "print((demographic_group[\"Price\"].sum()))"
   ]
  },
  {
   "cell_type": "markdown",
   "metadata": {},
   "source": [
    "# Top Spenders"
   ]
  },
  {
   "cell_type": "code",
   "execution_count": null,
   "metadata": {},
   "outputs": [],
   "source": [
    "spenders = p_data_df.groupby(\"SN\")\n",
    "\n",
    "#spenders.head()\n",
    "topSpenders = pd.DataFrame(spenders[\"Price\"].value_counts())\n",
    "topSpenders.sort_values(\"Price\", ascending = False, inplace = True)\n",
    "#opSpenders\n",
    "\n",
    "topSpenders.rename(columns = {\"Price\": \"Total Items\"},  inplace =True)\n",
    "#topSpenders    "
   ]
  },
  {
   "cell_type": "markdown",
   "metadata": {},
   "source": [
    "# Most Popular Items"
   ]
  },
  {
   "cell_type": "code",
   "execution_count": 10,
   "metadata": {},
   "outputs": [],
   "source": [
    "by_itemid = p_data_df.groupby('Item ID')\n",
    "#counts occurance of item ID by grouping by item ID\n",
    "pur_by_item = pd.DataFrame(by_itemid['Item ID'].count()) \n",
    "\n",
    "pur_by_item.rename(columns = {\"Item ID\": \"Number of Items Sold\"}, inplace = True)\n",
    "#pur_by_item\n",
    "\n",
    "#sums Price grouped by item ID\n",
    "TotalPvalue = pd.DataFrame(by_itemid['Price'].sum()) \n",
    "\n",
    "#Renaming the column\n",
    "TotalPvalue.rename(columns = {\"Price\": \"Revenue\"}, inplace =True)\n",
    "#Removing duplicates\n",
    "no_dup_items = p_data_df.drop_duplicates('Item ID')\n",
    "#TotalPvalue"
   ]
  },
  {
   "cell_type": "code",
   "execution_count": 11,
   "metadata": {},
   "outputs": [
    {
     "data": {
      "text/html": [
       "<div>\n",
       "<style>\n",
       "    .dataframe thead tr:only-child th {\n",
       "        text-align: right;\n",
       "    }\n",
       "\n",
       "    .dataframe thead th {\n",
       "        text-align: left;\n",
       "    }\n",
       "\n",
       "    .dataframe tbody tr th {\n",
       "        vertical-align: top;\n",
       "    }\n",
       "</style>\n",
       "<table border=\"1\" class=\"dataframe\">\n",
       "  <thead>\n",
       "    <tr style=\"text-align: right;\">\n",
       "      <th></th>\n",
       "      <th>Item ID</th>\n",
       "      <th>Item Name</th>\n",
       "      <th>Price</th>\n",
       "      <th>Number of Items Sold</th>\n",
       "      <th>Revenue</th>\n",
       "    </tr>\n",
       "  </thead>\n",
       "  <tbody>\n",
       "    <tr>\n",
       "      <th>15</th>\n",
       "      <td>94</td>\n",
       "      <td>Mourning Blade</td>\n",
       "      <td>3.64</td>\n",
       "      <td>3</td>\n",
       "      <td>10.92</td>\n",
       "    </tr>\n",
       "    <tr>\n",
       "      <th>0</th>\n",
       "      <td>93</td>\n",
       "      <td>Apocalyptic Battlescythe</td>\n",
       "      <td>4.49</td>\n",
       "      <td>2</td>\n",
       "      <td>8.98</td>\n",
       "    </tr>\n",
       "    <tr>\n",
       "      <th>10</th>\n",
       "      <td>126</td>\n",
       "      <td>Exiled Mithril Longsword</td>\n",
       "      <td>1.08</td>\n",
       "      <td>2</td>\n",
       "      <td>2.16</td>\n",
       "    </tr>\n",
       "    <tr>\n",
       "      <th>42</th>\n",
       "      <td>64</td>\n",
       "      <td>Fusion Pummel</td>\n",
       "      <td>2.42</td>\n",
       "      <td>2</td>\n",
       "      <td>4.84</td>\n",
       "    </tr>\n",
       "    <tr>\n",
       "      <th>36</th>\n",
       "      <td>108</td>\n",
       "      <td>Extraction, Quickblade Of Trembling Hands</td>\n",
       "      <td>2.26</td>\n",
       "      <td>2</td>\n",
       "      <td>4.52</td>\n",
       "    </tr>\n",
       "  </tbody>\n",
       "</table>\n",
       "</div>"
      ],
      "text/plain": [
       "    Item ID                                  Item Name  Price  \\\n",
       "15       94                             Mourning Blade   3.64   \n",
       "0        93                   Apocalyptic Battlescythe   4.49   \n",
       "10      126                   Exiled Mithril Longsword   1.08   \n",
       "42       64                              Fusion Pummel   2.42   \n",
       "36      108  Extraction, Quickblade Of Trembling Hands   2.26   \n",
       "\n",
       "    Number of Items Sold  Revenue  \n",
       "15                     3    10.92  \n",
       "0                      2     8.98  \n",
       "10                     2     2.16  \n",
       "42                     2     4.84  \n",
       "36                     2     4.52  "
      ]
     },
     "execution_count": 11,
     "metadata": {},
     "output_type": "execute_result"
    }
   ],
   "source": [
    "fivePopular = no_dup_items.merge(pur_by_item, left_on = \"Item ID\", right_index = True)\n",
    "fivePopular = fivePopular.merge(TotalPvalue, left_on = \"Item ID\", right_index = True)\n",
    "fivePopular = fivePopular[['Item ID', \"Item Name\", \"Price\", \"Number of Items Sold\", \"Revenue\"]]\n",
    "fivePopular.sort_values(\"Number of Items Sold\", ascending = False, inplace = True)\n",
    "fivePopular = fivePopular.iloc[0:5][:] \n",
    "fivePopular"
   ]
  },
  {
   "cell_type": "code",
   "execution_count": null,
   "metadata": {},
   "outputs": [],
   "source": [
    "fiveProfitable = no_dup_items.merge(pur_by_item, left_on = \"Item ID\", right_index = True)\n",
    "\n",
    "fiveProfitable = top5_prof.merge(fivePopular, left_on = \"Item ID\", right_index = True)\n",
    "#fiveProfitable = top5_prof[['Item ID', \"Item Name\", \"Number of Items Sold\", \"Price\", \"Revenue\"]]\n",
    "#fiveProfitable\n",
    "fiveProfitable.sort_values(\"Price\", ascending = False, inplace = True)\n",
    "fiveProfitable\n"
   ]
  },
  {
   "cell_type": "markdown",
   "metadata": {},
   "source": [
    "# Final Report"
   ]
  },
  {
   "cell_type": "code",
   "execution_count": 15,
   "metadata": {},
   "outputs": [
    {
     "name": "stdout",
     "output_type": "stream",
     "text": [
      "The total number of players for Pymoli game is 74\n",
      "The total number of unique items for Pymoli game is 64\n",
      "The average Purchase price for Pymoli game is (USD) 2.9243589743589733\n",
      "The total revenue  is (USD) 228.1\n",
      "The majority of the buyers for Pymoligame are in the ages of 20-24 and spend an average of US$3\n",
      "\n",
      "To consider: The spenders between 40 - 44 spend in average US$4, to increase the revenue it could be an option to target this audience\n"
     ]
    }
   ],
   "source": [
    "\n",
    "print (\"The total number of players for Pymoli game is \" + str(TotalUniquePlayers))\n",
    "print (\"The total number of unique items for Pymoli game is \" + str(NumberUniqueItems))\n",
    "print (\"The average Purchase price for Pymoli game is (USD) \" + str(averagePurchase))\n",
    "print (\"The total revenue  is (USD) \" + str(TotalRevenue))\n",
    "print (\"The majority of the buyers for Pymoligame are in the ages of 20-24 and spend an average of US$3\")\n",
    "print (\"\")\n",
    "print (\"To consider: The spenders between 40 - 44 spend in average US$4, to increase the revenue it could be an option to target this audience\")\n"
   ]
  }
 ],
 "metadata": {
  "kernelspec": {
   "display_name": "Python 3",
   "language": "python",
   "name": "python3"
  },
  "language_info": {
   "codemirror_mode": {
    "name": "ipython",
    "version": 3
   },
   "file_extension": ".py",
   "mimetype": "text/x-python",
   "name": "python",
   "nbconvert_exporter": "python",
   "pygments_lexer": "ipython3",
   "version": "3.6.1"
  }
 },
 "nbformat": 4,
 "nbformat_minor": 2
}
