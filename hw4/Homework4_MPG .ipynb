{
 "cells": [
  {
   "cell_type": "markdown",
   "metadata": {},
   "source": [
    "Homework#4\n",
    "Heroes of Pymoli\n",
    "http://gw.bootcampcontent.com/GW-Coding-Boot-Camp/09-12-2017-GW-Arlington-Class-Repository-DATA/tree/master/Homework/Week04/Instructions\n"
   ]
  },
  {
   "cell_type": "raw",
   "metadata": {},
   "source": []
  },
  {
   "cell_type": "code",
   "execution_count": 11,
   "metadata": {},
   "outputs": [
    {
     "data": {
      "text/plain": [
       "'C:\\\\dev\\\\Classes\\\\Gitclone\\\\09-12-2017-GW-Arlington-Class-Repository-DATA\\\\Class_Activities\\\\04-Pandas'"
      ]
     },
     "execution_count": 11,
     "metadata": {},
     "output_type": "execute_result"
    }
   ],
   "source": [
    "#Import libraries \n",
    "import pandas as pd\n",
    "import numpy as np \n",
    "import os\n",
    "import json \n",
    "os.getcwd()\n"
   ]
  },
  {
   "cell_type": "code",
   "execution_count": 4,
   "metadata": {},
   "outputs": [
    {
     "data": {
      "text/plain": [
       "Index(['Age', 'Gender', 'Item ID', 'Item Name', 'Price', 'SN'], dtype='object')"
      ]
     },
     "execution_count": 4,
     "metadata": {},
     "output_type": "execute_result"
    }
   ],
   "source": [
    "#Import data \n",
    "# json.load\n",
    "# json.loads (it use of only strings)\n",
    "\n",
    "json_path = \"purchase_data.json\"\n",
    "p_data_df = pd.read_json(json_path)\n",
    "p_data_df.head()\n",
    "p_data_df.columns\n",
    "#p_data_df.dtypes\n",
    "\n",
    "#data = pd.read_json(\"http://localhost:8840/edit/Homework/Week04/Instructions/HeroesOfPymoli/purchase_data.json\")\n",
    "#ata = json.load(open('http://localhost:8840/edit/Homework/Week04/Instructions/HeroesOfPymoli/purchase_data.json', 'r'))"
   ]
  },
  {
   "cell_type": "code",
   "execution_count": null,
   "metadata": {},
   "outputs": [],
   "source": [
    "#total number of players\n",
    "#TotalPlayers = p_data_df[\"SN\"].count()\n",
    "TotalPlayers = p_data_df[\"SN\"].unique()\n",
    "TotalUniquePlayers = len(TotalPlayers)"
   ]
  },
  {
   "cell_type": "code",
   "execution_count": null,
   "metadata": {},
   "outputs": [],
   "source": [
    "#Purchasing Analysis (Total)\n",
    "#Number of Unique Items\n",
    "UniqueItems = p_data_df[\"Item ID\"].unique()\n",
    "NumberUniqueItems = len(UniqueItems)\n",
    "\n",
    "#Average Purchase Price\n",
    "averagePurchase = p_data_df[\"Price\"].mean()\n",
    "\n",
    "#Total Number of Purchases\n",
    "TotalNumberPurchases = len(p_data_df[\"Price\"])\n",
    "\n",
    "#Total Revenue\n",
    "TotalRevenue = sum(p_data_df[\"Price\"])\n",
    "\n",
    "#p_data_df.describe()\n",
    "#p_data_df.counts()\n",
    "#type(p_data_df)"
   ]
  },
  {
   "cell_type": "markdown",
   "metadata": {},
   "source": [
    "#Gender Demographics\n",
    "#Percentage and Count of Male Players\n",
    "#Percentage and Count of Female Players\n",
    "#Percentage and Count of Other / Non-Disclosed"
   ]
  },
  {
   "cell_type": "code",
   "execution_count": 16,
   "metadata": {},
   "outputs": [
    {
     "data": {
      "text/html": [
       "<div>\n",
       "<style>\n",
       "    .dataframe thead tr:only-child th {\n",
       "        text-align: right;\n",
       "    }\n",
       "\n",
       "    .dataframe thead th {\n",
       "        text-align: left;\n",
       "    }\n",
       "\n",
       "    .dataframe tbody tr th {\n",
       "        vertical-align: top;\n",
       "    }\n",
       "</style>\n",
       "<table border=\"1\" class=\"dataframe\">\n",
       "  <thead>\n",
       "    <tr style=\"text-align: right;\">\n",
       "      <th></th>\n",
       "      <th>% Non Gender Specific</th>\n",
       "      <th>% Non Gender Specific Percent</th>\n",
       "      <th>% attended Female</th>\n",
       "      <th>% attended Male</th>\n",
       "      <th>Total Female</th>\n",
       "      <th>Total Gender</th>\n",
       "      <th>Total Male</th>\n",
       "    </tr>\n",
       "  </thead>\n",
       "  <tbody>\n",
       "    <tr>\n",
       "      <th>0</th>\n",
       "      <td>1</td>\n",
       "      <td>1.282051</td>\n",
       "      <td>16.666667</td>\n",
       "      <td>82.051282</td>\n",
       "      <td>13</td>\n",
       "      <td>78</td>\n",
       "      <td>64</td>\n",
       "    </tr>\n",
       "  </tbody>\n",
       "</table>\n",
       "</div>"
      ],
      "text/plain": [
       "   % Non Gender Specific  % Non Gender Specific Percent  % attended Female  \\\n",
       "0                      1                       1.282051          16.666667   \n",
       "\n",
       "   % attended Male  Total Female  Total Gender  Total Male  \n",
       "0        82.051282            13            78          64  "
      ]
     },
     "execution_count": 16,
     "metadata": {},
     "output_type": "execute_result"
    }
   ],
   "source": [
    "#demographics = p_data_df[\"Gender\"].value_counts()\n",
    "#demographics\n",
    "\n",
    "total_gender = p_data_df[\"Gender\"].count()\n",
    "male = p_data_df[\"Gender\"].value_counts()['Male']\n",
    "female = p_data_df[\"Gender\"].value_counts()['Female']\n",
    "non_gender_specific = total_gender - male - female\n",
    "male_percent = (male/total_gender) * 100\n",
    "female_percent = (female/total_gender) * 100\n",
    "non_gender_specific_percent = (non_gender_specific/total_gender) * 100\n",
    "\n",
    "#Everything to a table \n",
    "GenderDemographics = pd.DataFrame({\"Total Gender\": [total_gender],\n",
    "                                   \"Total Male\": [male],\n",
    "                                   \"% attended Male\": [male_percent],\n",
    "                                   \"Total Female\": [female],\n",
    "                                   \"% attended Female\": [female_percent],\n",
    "                                   \"% Non Gender Specific\":[non_gender_specific],\n",
    "                                   \"% Non Gender Specific Percent\":[non_gender_specific_percent],\n",
    "                                   \n",
    "                                 })\n",
    "GenderDemographics\n",
    "#percentage = pd.DataFrame.((demographics/NumberUniqueItems)*100)\n",
    "#percentage\n",
    "\n",
    "\n",
    "#genderdemographics = p_data_df.groupby(\"Gender\").count()\n",
    "#genderdemographics\n",
    "#How to change female / male / other to rows \n",
    "#gendercount = p_data_df(gender[\"Age\"].value_counts())\n",
    "#gendercount.heads()\n",
    "#genderpercentagefemale = TotalUniquePlayers /   \n",
    "\n",
    "\n"
   ]
  },
  {
   "cell_type": "markdown",
   "metadata": {},
   "source": [
    "3. Purchasing Analysis (Gender)\n",
    "#How to combine them in one single table?\n",
    "The below each broken by gender\n",
    "\n",
    "- Purchase Count (.count)\n",
    "- Average Purchase Price (.mean)\n",
    "- Total Purchase Value (.sum)\n",
    "- Normalized Totals (?????) \n"
   ]
  },
  {
   "cell_type": "code",
   "execution_count": null,
   "metadata": {},
   "outputs": [],
   "source": [
    "genderdf = p_data_df.groupby(\"Gender\")\n",
    "genderPurchasing = pd.DataFrame(genderdf[\"Price\"].value_counts())\n",
    "genderPurchasing = pd.DataFrame(genderdf[\"Price\"].count())\n",
    "genderPurchasingAverage = pd.DataFrame(genderdf[\"Price\"].mean())\n",
    "genderPurchasingTotal = pd.DataFrame(genderdf[\"Price\"].sum())\n",
    "genderPurchasing\n",
    "\n"
   ]
  },
  {
   "cell_type": "markdown",
   "metadata": {},
   "source": [
    "#Age Demographics\n",
    "The below each broken into bins of 4 years (i.e. <10, 10-14, 15-19, etc.)\n",
    "Purchase Count\n",
    "Average Purchase Price\n",
    "Total Purchase Value\n",
    "Normalized Totals\n"
   ]
  },
  {
   "cell_type": "code",
   "execution_count": 9,
   "metadata": {},
   "outputs": [
    {
     "data": {
      "text/html": [
       "<div>\n",
       "<style>\n",
       "    .dataframe thead tr:only-child th {\n",
       "        text-align: right;\n",
       "    }\n",
       "\n",
       "    .dataframe thead th {\n",
       "        text-align: left;\n",
       "    }\n",
       "\n",
       "    .dataframe tbody tr th {\n",
       "        vertical-align: top;\n",
       "    }\n",
       "</style>\n",
       "<table border=\"1\" class=\"dataframe\">\n",
       "  <thead>\n",
       "    <tr style=\"text-align: right;\">\n",
       "      <th></th>\n",
       "      <th>Price</th>\n",
       "    </tr>\n",
       "  </thead>\n",
       "  <tbody>\n",
       "    <tr>\n",
       "      <th>count</th>\n",
       "      <td>78.0</td>\n",
       "    </tr>\n",
       "    <tr>\n",
       "      <th>mean</th>\n",
       "      <td>1.0</td>\n",
       "    </tr>\n",
       "    <tr>\n",
       "      <th>std</th>\n",
       "      <td>0.0</td>\n",
       "    </tr>\n",
       "    <tr>\n",
       "      <th>min</th>\n",
       "      <td>1.0</td>\n",
       "    </tr>\n",
       "    <tr>\n",
       "      <th>25%</th>\n",
       "      <td>1.0</td>\n",
       "    </tr>\n",
       "    <tr>\n",
       "      <th>50%</th>\n",
       "      <td>1.0</td>\n",
       "    </tr>\n",
       "    <tr>\n",
       "      <th>75%</th>\n",
       "      <td>1.0</td>\n",
       "    </tr>\n",
       "    <tr>\n",
       "      <th>max</th>\n",
       "      <td>1.0</td>\n",
       "    </tr>\n",
       "  </tbody>\n",
       "</table>\n",
       "</div>"
      ],
      "text/plain": [
       "       Price\n",
       "count   78.0\n",
       "mean     1.0\n",
       "std      0.0\n",
       "min      1.0\n",
       "25%      1.0\n",
       "50%      1.0\n",
       "75%      1.0\n",
       "max      1.0"
      ]
     },
     "execution_count": 9,
     "metadata": {},
     "output_type": "execute_result"
    }
   ],
   "source": [
    "agedf = p_data_df.groupby(\"Age\")\n",
    "agePurchasing = pd.DataFrame(agedf[\"Price\"].value_counts())\n"
   ]
  },
  {
   "cell_type": "markdown",
   "metadata": {},
   "source": [
    "#Top Spenders\n",
    "Identify the the top 5 spenders in the game by total purchase value, then list (in a table):\n",
    "SN\n",
    "Purchase Count\n",
    "Average Purchase Price\n",
    "Total Purchase Value\n"
   ]
  },
  {
   "cell_type": "code",
   "execution_count": 5,
   "metadata": {},
   "outputs": [
    {
     "ename": "TypeError",
     "evalue": "'>' not supported between instances of 'SeriesGroupBy' and 'int'",
     "output_type": "error",
     "traceback": [
      "\u001b[1;31m---------------------------------------------------------------------------\u001b[0m",
      "\u001b[1;31mTypeError\u001b[0m                                 Traceback (most recent call last)",
      "\u001b[1;32m<ipython-input-5-b141b11344df>\u001b[0m in \u001b[0;36m<module>\u001b[1;34m()\u001b[0m\n\u001b[0;32m      2\u001b[0m \u001b[1;31m#Why meand and sum are the same?\u001b[0m\u001b[1;33m\u001b[0m\u001b[1;33m\u001b[0m\u001b[0m\n\u001b[0;32m      3\u001b[0m \u001b[1;31m#spenders.head()\u001b[0m\u001b[1;33m\u001b[0m\u001b[1;33m\u001b[0m\u001b[0m\n\u001b[1;32m----> 4\u001b[1;33m \u001b[0mtopSpenders\u001b[0m \u001b[1;33m=\u001b[0m \u001b[0mpd\u001b[0m\u001b[1;33m.\u001b[0m\u001b[0mDataFrame\u001b[0m\u001b[1;33m(\u001b[0m\u001b[0mspenders\u001b[0m\u001b[1;33m[\u001b[0m\u001b[1;34m\"Price\"\u001b[0m\u001b[1;33m]\u001b[0m \u001b[1;33m>\u001b[0m \u001b[1;36m4\u001b[0m\u001b[1;33m)\u001b[0m\u001b[1;33m\u001b[0m\u001b[0m\n\u001b[0m\u001b[0;32m      5\u001b[0m \u001b[0mtopSpenders\u001b[0m\u001b[1;33m.\u001b[0m\u001b[0mhead\u001b[0m\u001b[1;33m(\u001b[0m\u001b[1;33m)\u001b[0m\u001b[1;33m\u001b[0m\u001b[0m\n\u001b[0;32m      6\u001b[0m \u001b[0mtopSpendersmeand\u001b[0m \u001b[1;33m=\u001b[0m \u001b[0mpd\u001b[0m\u001b[1;33m.\u001b[0m\u001b[0mDataFrame\u001b[0m\u001b[1;33m(\u001b[0m\u001b[0mspenders\u001b[0m\u001b[1;33m[\u001b[0m\u001b[1;34m\"Price\"\u001b[0m\u001b[1;33m]\u001b[0m\u001b[1;33m.\u001b[0m\u001b[0mmean\u001b[0m\u001b[1;33m(\u001b[0m\u001b[1;33m)\u001b[0m\u001b[1;33m)\u001b[0m\u001b[1;33m\u001b[0m\u001b[0m\n",
      "\u001b[1;31mTypeError\u001b[0m: '>' not supported between instances of 'SeriesGroupBy' and 'int'"
     ]
    }
   ],
   "source": [
    "spenders = p_data_df.groupby(\"SN\")\n",
    "#Why meand and sum are the same? \n",
    "#spenders.head()\n",
    "topSpenders = pd.DataFrame(spenders[\"Price\"].count())\n",
    "topSpenders.head()\n",
    "topSpendersmeand = pd.DataFrame(spenders[\"Price\"].mean())\n",
    "topSpendersmeand.head()\n",
    "#genderPurchasing = pd.DataFrame(genderdf[\"Price\"].value_counts())"
   ]
  },
  {
   "cell_type": "raw",
   "metadata": {},
   "source": [
    "# by trying to filter by the max I did this\n",
    "topSpenders = pd.DataFrame(spenders[\"Price\"] > 4)\n",
    "= '>' not supported between instances of 'SeriesGroupBy' and 'int'\n"
   ]
  },
  {
   "cell_type": "code",
   "execution_count": null,
   "metadata": {
    "collapsed": true
   },
   "outputs": [],
   "source": [
    "#Final Report \n",
    "#print (\"The total number of players for Pymoli game is \" + str(TotalUniquePlayers))\n",
    "#print (\"The total number of unique items for Pymoli game is \" + str(NumberUniqueItems))\n",
    "#print (\"The average Purchase price for Pymoli game is (USD) \" + str(averagePurchase))\n",
    "#print (\"The total revenue  is (USD) \" + str(TotalRevenue))\n"
   ]
  }
 ],
 "metadata": {
  "kernelspec": {
   "display_name": "Python 3",
   "language": "python",
   "name": "python3"
  },
  "language_info": {
   "codemirror_mode": {
    "name": "ipython",
    "version": 3
   },
   "file_extension": ".py",
   "mimetype": "text/x-python",
   "name": "python",
   "nbconvert_exporter": "python",
   "pygments_lexer": "ipython3",
   "version": "3.6.1"
  }
 },
 "nbformat": 4,
 "nbformat_minor": 2
}
