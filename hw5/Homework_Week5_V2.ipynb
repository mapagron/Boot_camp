{
 "cells": [
  {
   "cell_type": "code",
   "execution_count": null,
   "metadata": {
    "collapsed": true
   },
   "outputs": [],
   "source": [
    "Questions for tutoring \n",
    "#data.groupby(['col1', 'col2'])['col3'].mean()"
   ]
  },
  {
   "cell_type": "code",
   "execution_count": null,
   "metadata": {
    "collapsed": true
   },
   "outputs": [],
   "source": [
    "# Dependencies\n",
    "from matplotlib import pyplot as plt\n",
    "from scipy import stats\n",
    "import numpy as np\n",
    "import pandas as pd\n",
    "#import plotly.plotly as py"
   ]
  },
  {
   "cell_type": "code",
   "execution_count": null,
   "metadata": {
    "collapsed": true
   },
   "outputs": [],
   "source": [
    "#Loading data \n",
    "city_data = pd.read_csv(\"city_data.csv\")\n",
    "ride_data = pd.read_csv(\"ride_data.csv\")"
   ]
  },
  {
   "cell_type": "code",
   "execution_count": null,
   "metadata": {
    "collapsed": true
   },
   "outputs": [],
   "source": [
    "#Understanding the data\n",
    "city_data.head()\n",
    "ride_data.head()"
   ]
  },
  {
   "cell_type": "code",
   "execution_count": null,
   "metadata": {
    "collapsed": true
   },
   "outputs": [],
   "source": [
    "#Identifying the columns \n",
    "\n",
    "#ride_data.shape \n",
    "#ride_data.columns\n",
    "#Index(['city', 'date', 'fare', 'ride_id'], dtype='object')\n",
    "\n",
    "#city_data.columns\n",
    "#Index(['city', 'driver_count', 'type'], dtype='object')"
   ]
  },
  {
   "cell_type": "code",
   "execution_count": null,
   "metadata": {
    "collapsed": true
   },
   "outputs": [],
   "source": [
    "#pandas tables is a bid dictionary, and each column is a key, and every single value is part of a list(array) matching that key \n",
    "data_grouped_sum = ride_data.groupby([\"city\"]).sum()\n",
    "data_grouped_mean = ride_data.groupby([\"city\"]).count()\n",
    "\n",
    "#totalfares = data_grouped_sum.rename({\"fare\": \"total fare\"})\n",
    "data_grouped_sum = data_grouped_sum.rename(columns = {\"ride_id\" : \"test\"})\n",
    "\n",
    "#totalfares = data_grouped_sum[\"total fare\"]\n",
    "\n",
    "    \n",
    "\n",
    "#data_grouped_mean.type()\n",
    "#ata_grouped_mean = pd.DataFrame(ride_data[\"city\"]).mean\n",
    "#data_grouped_mean\n",
    "data_grouped_sum\n",
    "\n",
    "\n",
    "\n",
    "#data_grouped_mean = ride_data.drop_duplicates(\"city\")\n",
    "#data_grouped_mean.head()\n",
    "#len(data_grouped_mean)\n",
    "#125"
   ]
  },
  {
   "cell_type": "code",
   "execution_count": null,
   "metadata": {
    "collapsed": true
   },
   "outputs": [],
   "source": [
    "#Second Try for grouping by \n",
    "\n",
    "#data.groupby(['col1', 'col2'])['col3'].mean()\n",
    "#data_grouped_test = ride_data.groupby([\"city\"])['fare'].mean()\n",
    "#data_grouped_test"
   ]
  }
 ],
 "metadata": {
  "kernelspec": {
   "display_name": "Python 3",
   "language": "python",
   "name": "python3"
  },
  "language_info": {
   "codemirror_mode": {
    "name": "ipython",
    "version": 3
   },
   "file_extension": ".py",
   "mimetype": "text/x-python",
   "name": "python",
   "nbconvert_exporter": "python",
   "pygments_lexer": "ipython3",
   "version": "3.6.1"
  }
 },
 "nbformat": 4,
 "nbformat_minor": 2
}
